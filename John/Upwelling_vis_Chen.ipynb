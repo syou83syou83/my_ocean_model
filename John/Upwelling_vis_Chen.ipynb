{
 "cells": [
  {
   "cell_type": "code",
   "execution_count": 2,
   "id": "0f2da36f",
   "metadata": {},
   "outputs": [],
   "source": [
    "# ## Visualize the results\n",
    "\n",
    "using JLD2, Plots\n",
    "using Printf\n",
    "using Oceananigans\n",
    "using Oceananigans.Units: hours, hour, day, days, minute, minutes"
   ]
  },
  {
   "cell_type": "code",
   "execution_count": 3,
   "id": "47b704ba",
   "metadata": {},
   "outputs": [
    {
     "data": {
      "text/plain": [
       "128×128×32 RectilinearGrid{Float64, Bounded, Periodic, Bounded} on CPU with 1×1×1 halo\n",
       "├── Bounded  x ∈ [0.0, 200000.0] regularly spaced with Δx=1562.5\n",
       "├── Periodic y ∈ [0.0, 200000.0) regularly spaced with Δy=1562.5\n",
       "└── Bounded  z ∈ [-2000.0, 0.0]  variably spaced with min(Δz)=15.6581, max(Δz)=406.789"
      ]
     },
     "execution_count": 3,
     "metadata": {},
     "output_type": "execute_result"
    }
   ],
   "source": [
    "# Re-create the model grid to get the coordinate arrays\n",
    "Lx=200e3;\n",
    "Ly=200e3;\n",
    "Lz=2e3;\n",
    "Nx=128;\n",
    "Ny=128;\n",
    "Nz=32;\n",
    "# Vertical grid stretching parameters\n",
    "refinement = 4 # controls spacing near surface (higher means finer spaced)\n",
    "stretching = 10   # controls rate of stretching at bottom \n",
    "## Normalized height ranging from 0 to 1\n",
    "h(k) = (k - 1) / Nz\n",
    "## Linear near-surface generator\n",
    "ζ₀(k) = 1 + (h(k) - 1) / refinement\n",
    "## Bottom-intensified stretching function \n",
    "Σ(k) = (1 - exp(-stretching * h(k))) / (1 - exp(-stretching))\n",
    "## Generating function\n",
    "z_faces(k) = Lz * (ζ₀(k) * Σ(k) - 1)\n",
    "grid = RectilinearGrid(size = (Nx, Ny, Nz), \n",
    "                                         x = (0, Lx),\n",
    "                                         y = (0, Ly),\n",
    "                                         z = z_faces,\n",
    "                                          topology = (Bounded, Periodic, Bounded))"
   ]
  },
  {
   "cell_type": "code",
   "execution_count": 4,
   "id": "8443ddd5",
   "metadata": {},
   "outputs": [
    {
     "data": {
      "text/plain": [
       "NonhydrostaticModel{CPU, Float64}(time = 0 seconds, iteration = 0) \n",
       "├── grid: 128×128×32 RectilinearGrid{Float64, Bounded, Periodic, Bounded} on CPU with 1×1×1 halo\n",
       "├── tracers: (:T, :S, :C)\n",
       "├── closure: Nothing\n",
       "├── buoyancy: Nothing\n",
       "└── coriolis: Nothing"
      ]
     },
     "execution_count": 4,
     "metadata": {},
     "output_type": "execute_result"
    }
   ],
   "source": [
    "model = NonhydrostaticModel(\n",
    "        #   architecture = CPU(),\n",
    "                   grid = grid,\n",
    "            #   advection = UpwindBiasedFifthOrder(),\n",
    "            # timestepper = :RungeKutta3,\n",
    "            #    coriolis = coriolis,\n",
    "                tracers = (:T, :S, :C),\n",
    "            #    buoyancy = buoyancy,\n",
    "            #    particles = lagrangian_particles,\n",
    "                # closure = (Laplacian_vertical_diffusivity, biharmonic_horizontal_diffusivity),\n",
    "                # forcing = (C=C_forcing,u=IB_u_forcing, v=IB_v_forcing, w=IB_w_forcing),\n",
    "    # boundary_conditions = (u=u_bcs, v=v_bcs)\n",
    ")"
   ]
  },
  {
   "cell_type": "code",
   "execution_count": 5,
   "id": "1e8c7746",
   "metadata": {},
   "outputs": [
    {
     "data": {
      "text/plain": [
       "([781.25, 2343.75, 3906.25, 5468.75, 7031.25, 8593.75, 10156.25, 11718.75, 13281.25, 14843.75  …  185156.25, 186718.75, 188281.25, 189843.75, 191406.25, 192968.75, 194531.25, 196093.75, 197656.25, 199218.75], [781.25, 2343.75, 3906.25, 5468.75, 7031.25, 8593.75, 10156.25, 11718.75, 13281.25, 14843.75  …  185156.25, 186718.75, 188281.25, 189843.75, 191406.25, 192968.75, 194531.25, 196093.75, 197656.25, 199218.75], [-1796.6057347257695, -1440.7741112049061, -1173.5919892270445, -971.9801774021199, -818.8622341493272, -701.6047773265522, -610.8626078051054, -539.7237002810659, -483.07628790980374, -437.14041419933017  …  -150.00890388474718, -133.949120108077, -118.00309020612443, -102.14102110562328, -86.34091801276278, -70.58654454068403, -54.86591606537583, -39.17018702199448, -23.492829210535415, -7.829025054368777])"
      ]
     },
     "execution_count": 5,
     "metadata": {},
     "output_type": "execute_result"
    }
   ],
   "source": [
    "## Coordinate arrays\n",
    "xw, yw, zw = nodes(model.velocities.w)\n",
    "xu, yu, zu = nodes(model.velocities.u)\n",
    "xv, yv, zv = nodes(model.velocities.v)\n",
    "\n",
    "xT, yT, zT = nodes(model.tracers.T)\n",
    "xS, yS, zS = nodes(model.tracers.S)\n",
    "xC, yC, zC = nodes(model.tracers.C)"
   ]
  },
  {
   "cell_type": "code",
   "execution_count": 6,
   "id": "c9777c54",
   "metadata": {},
   "outputs": [
    {
     "data": {
      "text/plain": [
       "JLDFile /home/sichen/code/my_ocean_model/John/slice_xy.jld2 (read-only)\n",
       " ├─📂 grid\n",
       " │  ├─🔢 Nx\n",
       " │  ├─🔢 Ny\n",
       " │  ├─🔢 Nz\n",
       " │  ├─🔢 Hx\n",
       " │  ├─🔢 Hy\n",
       " │  ├─🔢 Hz\n",
       " │  ├─🔢 Lx\n",
       " │  └─ ⋯ (14 more entries)\n",
       " └─ ⋯ (5 more entries)"
      ]
     },
     "execution_count": 6,
     "metadata": {},
     "output_type": "execute_result"
    }
   ],
   "source": [
    "## Open the file with our data\n",
    "file_xz = jldopen(\"./slice_xz.jld2\")\n",
    "file_xy = jldopen(\"./slice_xy.jld2\")\n",
    "# file_particles = jldopen(simulation.output_writers[:particles].filepath)"
   ]
  },
  {
   "cell_type": "code",
   "execution_count": 7,
   "id": "35ff052d",
   "metadata": {},
   "outputs": [
    {
     "name": "stderr",
     "output_type": "stream",
     "text": [
      "┌ Info: Drawing frame 1 from iteration 0...\n",
      "└ @ Main In[7]:26\n"
     ]
    },
    {
     "data": {
      "text/plain": [
       "Animation(\"/tmp/jl_lImm9m\", [\"000001.png\"])"
      ]
     },
     "execution_count": 7,
     "metadata": {},
     "output_type": "execute_result"
    }
   ],
   "source": [
    "## Extract a vector of iterations\n",
    "iterations = parse.(Int, keys(file_xy[\"timeseries/t\"]))\n",
    "\n",
    "\"\"\" Returns colorbar levels equispaced between `(-clim, clim)` and encompassing the extrema of `c`. \"\"\"\n",
    "function divergent_levels(c, clim, nlevels=21)\n",
    "    cmax = maximum(abs, c)\n",
    "    levels = clim > cmax ? range(-clim, stop=clim, length=nlevels) : range(-cmax, stop=cmax, length=nlevels)\n",
    "    return (levels[1], levels[end]), levels\n",
    "end\n",
    "\n",
    "\"\"\" Returns colorbar levels equispaced between `clims` and encompassing the extrema of `c`.\"\"\"\n",
    "function sequential_levels(c, clims, nlevels=20)\n",
    "    levels = range(clims[1], stop=clims[2], length=nlevels)\n",
    "    cmin, cmax = minimum(c), maximum(c)\n",
    "    cmin < clims[1] && (levels = vcat([cmin], levels))\n",
    "    cmax > clims[2] && (levels = vcat(levels, [cmax]))\n",
    "    return clims, levels\n",
    "end\n",
    "nothing # hide\n",
    "\n",
    "times = [file_xy[\"timeseries/t/$iter\"] for iter in iterations]\n",
    "intro = searchsortedfirst(times, 0minutes)\n",
    "\n",
    "anim = @animate for (i, iter) in enumerate(iterations[intro:end])\n",
    "\n",
    "    @info \"Drawing frame $i from iteration $iter...\"\n",
    "\n",
    "    t = file_xy[\"timeseries/t/$iter\"]\n",
    "    u_xy = file_xy[\"timeseries/u/$iter\"][:, :, 1]\n",
    "    v_xy = file_xy[\"timeseries/v/$iter\"][:, :, 1]\n",
    "    w_xy = file_xy[\"timeseries/w/$iter\"][:, :, 1]\n",
    "    u_xz = file_xz[\"timeseries/u/$iter\"][:, 1, :]\n",
    "    v_xz = file_xz[\"timeseries/v/$iter\"][:, 1, :]\n",
    "    w_xz = file_xz[\"timeseries/w/$iter\"][:, 1, :]\n",
    "\n",
    "    T_xz = file_xz[\"timeseries/T/$iter\"][:, 1, :]\n",
    "    S_xz = file_xz[\"timeseries/S/$iter\"][:, 1, :]\n",
    "    C_xz = file_xz[\"timeseries/C/$iter\"][:, 1, :]\n",
    "    T_xy = file_xy[\"timeseries/T/$iter\"][:, :, 1]\n",
    "    S_xy = file_xy[\"timeseries/S/$iter\"][:, :, 1]\n",
    "    C_xy = file_xy[\"timeseries/C/$iter\"][:, :, 1]\n",
    "\n",
    "    # particles = file_particles[\"timeseries/particles/$iter\"]\n",
    "\n",
    "    ulims, ulevels = divergent_levels(u_xz,1)\n",
    "    wlims, wlevels = divergent_levels(w_xz, 2e-2)\n",
    "    Tlims, Tlevels = sequential_levels(T_xy, (15, 20))\n",
    "    Slims, Slevels = sequential_levels(S_xz, (33.75, 35.5))\n",
    "    Clims, Clevels = sequential_levels(C_xy, (0, 1))\n",
    "\n",
    "    kwargs_xz = (linewidth=0, xlabel=\"x (m)\", ylabel=\"z (m)\", aspectratio=grid.Lx/grid.Lz,\n",
    "              xlims=(0, grid.Lx), ylims=(-grid.Lz, 0))\n",
    "    kwargs_xy = (linewidth=0, xlabel=\"x (km)\", ylabel=\"y (km)\", aspectratio=1,\n",
    "              xlims=(0, grid.Lx/1e3), ylims=(0, grid.Ly/1e3))\n",
    "\n",
    "    w_plot = contourf(xw, yw, w_xy'; color=:balance, clims=wlims, levels=wlevels, kwargs_xy...)\n",
    "    T_xz_plot = contourf(xT, zT, T_xz'; color=:thermal, clims=Tlims, levels=Tlevels, kwargs_xz...)\n",
    "    # scatter!(particles.x,particles.z, legend=false, color=:black, markerstrokewidth=0, markersize=3)\n",
    "\n",
    "    T_xy_plot = contourf(xT/1e3, yT/1e3, T_xy'; color=:thermal, clims=Tlims, levels=Tlevels, kwargs_xy...)\n",
    "    # scatter!(particles.x,particles.y, legend=false, color=:black, markerstrokewidth=0, markersize=3)\n",
    "\n",
    "    S_xz_plot = contourf(xS, zS, S_xz'; color=:thermal, clims=Slims, levels=Slevels, kwargs_xz...)\n",
    "    # scatter!(particles.x,particles.z, legend=false, color=:black, markerstrokewidth=0, markersize=3)\n",
    "\n",
    "    S_xy_plot = contourf(xS/1e3, yS/1e3, S_xy'; color=:thermal, clims=Slims, levels=Slevels, kwargs_xy...)\n",
    "    # scatter!(particles.x,particles.y, legend=false, color=:black, markerstrokewidth=0, markersize=3)\n",
    "\n",
    "    C_xz_plot = heatmap(xC, zC, C_xz'; color=:thermal, clims=(0,10), levels=Clevels, kwargs_xz...)\n",
    "    # scatter!(particles.x,particles.z, legend=false, color=:black, markerstrokewidth=0, markersize=3)\n",
    "\n",
    "    C_xy_plot = contourf(xC/1e3, yC/1e3, C_xy'; color=:haline, clims=(0,1), levels=Clevels, kwargs_xy...)\n",
    "    # scatter!(particles.x,particles.y, legend=false, color=:black, markerstrokewidth=0, markersize=3)\n",
    "\n",
    "    u_xy_plot = heatmap(xu, yu, u_xy'; color=:balance, clims=ulims, levels=ulevels, kwargs_xy...)    \n",
    "    v_xy_plot = heatmap(xv, yv, v_xy'; color=:balance, clims=ulims, levels=ulevels, kwargs_xy...)    \n",
    "    u_xz_plot = heatmap(xu, zu, u_xz'; color=:balance, clims=ulims, levels=ulevels, kwargs_xz...)    \n",
    "    v_xz_plot = heatmap(xv, zv, v_xz'; color=:balance, clims=ulims, levels=ulevels, kwargs_xz...)   \n",
    "\n",
    "    w_title = @sprintf(\"vertical velocity (m s⁻¹), t = %s\", prettytime(t))\n",
    "    T_title = \"temperature (ᵒC)\"\n",
    "    S_title = \"salinity (g kg⁻¹)\"\n",
    "    u_title = \"u (m/s)\"\n",
    "    v_title = \"v (m/s)\"\n",
    "    C_title = \"tracer concentration\"\n",
    "    #ν_title = \"eddy viscosity (m² s⁻¹)\"\n",
    "\n",
    "    ## Arrange the plots side-by-side.\n",
    "#    plot(T_xy_plot, C_xy_plot, u_xz_plot, C_xz_plot, layout=(2, 2), size=(1200, 1200),\n",
    "#         title=[T_title C_title T_title C_title])\n",
    "    plot(T_xy_plot, C_xy_plot, size=(1200,600), title=[T_title C_title])\n",
    "\n",
    "    #iter == iterations[end] && close(file)\n",
    "end\n"
   ]
  },
  {
   "cell_type": "code",
   "execution_count": 8,
   "id": "fdf8241e",
   "metadata": {},
   "outputs": [
    {
     "name": "stderr",
     "output_type": "stream",
     "text": [
      "┌ Info: Saved animation to \n",
      "│   fn = /home/sichen/code/my_ocean_model/John/Upwelling.mp4\n",
      "└ @ Plots /home/sichen/.julia/packages/Plots/4oFWe/src/animation.jl:114\n"
     ]
    },
    {
     "data": {
      "text/html": [
       "<video controls><source src=\"data:video/mp4;base64,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\" type = \"video/mp4\"></video>"
      ],
      "text/plain": [
       "Plots.AnimatedGif(\"/home/sichen/code/my_ocean_model/John/Upwelling.mp4\")"
      ]
     },
     "execution_count": 8,
     "metadata": {},
     "output_type": "execute_result"
    }
   ],
   "source": [
    "mp4(anim, \"Upwelling.mp4\", fps = 20) # hide"
   ]
  },
  {
   "cell_type": "code",
   "execution_count": null,
   "id": "7d6e4917",
   "metadata": {},
   "outputs": [],
   "source": []
  },
  {
   "cell_type": "code",
   "execution_count": null,
   "id": "ab1d9fb2",
   "metadata": {},
   "outputs": [],
   "source": []
  }
 ],
 "metadata": {
  "kernelspec": {
   "display_name": "Julia 1.7.1",
   "language": "julia",
   "name": "julia-1.7"
  },
  "language_info": {
   "file_extension": ".jl",
   "mimetype": "application/julia",
   "name": "julia",
   "version": "1.7.1"
  }
 },
 "nbformat": 4,
 "nbformat_minor": 5
}
